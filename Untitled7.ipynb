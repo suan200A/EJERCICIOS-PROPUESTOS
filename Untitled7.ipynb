{
  "nbformat": 4,
  "nbformat_minor": 0,
  "metadata": {
    "colab": {
      "provenance": [],
      "authorship_tag": "ABX9TyOv2wiiN9Cs9MtgADHVmjRb",
      "include_colab_link": true
    },
    "kernelspec": {
      "name": "python3",
      "display_name": "Python 3"
    },
    "language_info": {
      "name": "python"
    }
  },
  "cells": [
    {
      "cell_type": "markdown",
      "metadata": {
        "id": "view-in-github",
        "colab_type": "text"
      },
      "source": [
        "<a href=\"https://colab.research.google.com/github/suan200A/EJERCICIOS-PROPUESTOS/blob/main/Untitled7.ipynb\" target=\"_parent\"><img src=\"https://colab.research.google.com/assets/colab-badge.svg\" alt=\"Open In Colab\"/></a>"
      ]
    },
    {
      "cell_type": "markdown",
      "source": [
        "EJERCICIOS PROPUESTOS\n"
      ],
      "metadata": {
        "id": "63_4IXDZzb-9"
      }
    },
    {
      "cell_type": "code",
      "source": [
        "import pandas as pd\n",
        "\n",
        "# Ejercicio 1\n",
        "print(\"--- Ejercicio 1 ---\")\n",
        "materias_input = input(\"Introduce las asignaturas separadas por comas: \")\n",
        "materias = [materia.strip() for materia in materias_input.split(',')]\n",
        "df_asignaturas = pd.DataFrame(materias, columns=[\"Asignatura\"])\n",
        "print(df_asignaturas)"
      ],
      "metadata": {
        "colab": {
          "base_uri": "https://localhost:8080/"
        },
        "id": "gVKP-5w42NLC",
        "outputId": "e4a633a6-ff42-44fe-8936-f5460b51ad37"
      },
      "execution_count": null,
      "outputs": [
        {
          "output_type": "stream",
          "name": "stdout",
          "text": [
            "--- Ejercicio 1 ---\n",
            "Introduce las asignaturas separadas por comas: patolo, musi , poroor\n",
            "  Asignatura\n",
            "0     patolo\n",
            "1       musi\n",
            "2     poroor\n"
          ]
        }
      ]
    },
    {
      "cell_type": "code",
      "metadata": {
        "id": "a6d13665"
      },
      "source": [
        "import pandas as pd\n",
        "\n",
        "# Ejercicio 2\n",
        "print(\"\\n--- Ejercicio 2 ---\")\n",
        "# Assuming 'materias' variable from Ejercicio 1 is available\n",
        "if 'materias' in locals() and materias:\n",
        "    df_asignaturas = pd.DataFrame(materias, columns=[\"Asignatura\"])\n",
        "    for index, row in df_asignaturas.iterrows():\n",
        "        print(f\"Yo estudio {row['Asignatura']}\")\n",
        "else:\n",
        "    print(\"Por favor, ejecuta el Ejercicio 1 primero para definir las asignaturas.\")"
      ],
      "execution_count": null,
      "outputs": []
    },
    {
      "cell_type": "code",
      "metadata": {
        "id": "2711f03d"
      },
      "source": [
        "import pandas as pd\n",
        "\n",
        "# Ejercicio 3\n",
        "print(\"\\n--- Ejercicio 3 ---\")\n",
        "# Assuming 'materias' variable from Ejercicio 1 is available\n",
        "if 'materias' in locals() and materias:\n",
        "    notas = {}\n",
        "    for asignatura in materias:\n",
        "        while True:\n",
        "            try:\n",
        "                nota = float(input(f\"Introduce la nota de {asignatura}: \"))\n",
        "                notas[asignatura] = nota\n",
        "                break\n",
        "            except ValueError:\n",
        "                print(\"Entrada inválida. Por favor, introduce un número.\")\n",
        "\n",
        "    df_notas = pd.DataFrame(list(notas.items()), columns=[\"Asignatura\", \"Nota\"])\n",
        "    for index, row in df_notas.iterrows():\n",
        "        print(f\"En {row['Asignatura']} has sacado {row['Nota']}\")\n",
        "else:\n",
        "     print(\"Por favor, ejecuta el Ejercicio 1 primero para definir las asignaturas.\")"
      ],
      "execution_count": null,
      "outputs": []
    },
    {
      "cell_type": "code",
      "metadata": {
        "id": "2f7afb90"
      },
      "source": [
        "import pandas as pd\n",
        "\n",
        "# Ejercicio 4\n",
        "print(\"\\n--- Ejercicio 4 ---\")\n",
        "numeros_loteria = []\n",
        "print(\"Introduce los 6 números ganadores de la lotería primitiva:\")\n",
        "for i in range(6):\n",
        "    while True:\n",
        "        try:\n",
        "            numero = int(input(f\"Número {i+1}: \"))\n",
        "            numeros_loteria.append(numero)\n",
        "            break\n",
        "        except ValueError:\n",
        "            print(\"Entrada inválida. Por favor, introduce un número entero.\")\n",
        "\n",
        "df_loteria = pd.DataFrame(numeros_loteria, columns=[\"Número\"])\n",
        "df_loteria_ordenada = df_loteria.sort_values(by=\"Número\").reset_index(drop=True)\n",
        "print(\"Números ganadores ordenados:\")\n",
        "print(df_loteria_ordenada)"
      ],
      "execution_count": null,
      "outputs": []
    },
    {
      "cell_type": "code",
      "metadata": {
        "id": "3779a372"
      },
      "source": [
        "import pandas as pd\n",
        "\n",
        "# Ejercicio 5\n",
        "print(\"\\n--- Ejercicio 5 ---\")\n",
        "numeros = list(range(1, 11))\n",
        "df_numeros = pd.DataFrame(numeros, columns=[\"Número\"])\n",
        "df_numeros_inverso = df_numeros.iloc[::-1].reset_index(drop=True)\n",
        "print(\",\".join(map(str, df_numeros_inverso[\"Número\"].tolist())))"
      ],
      "execution_count": null,
      "outputs": []
    },
    {
      "cell_type": "code",
      "metadata": {
        "id": "cf001baa"
      },
      "source": [
        "import pandas as pd\n",
        "\n",
        "# Ejercicio 6\n",
        "print(\"\\n--- Ejercicio 6 ---\")\n",
        "# Assuming 'materias' variable from Ejercicio 1 is available\n",
        "if 'materias' in locals() and materias:\n",
        "    notas = {}\n",
        "    for asignatura in materias:\n",
        "        while True:\n",
        "            try:\n",
        "                nota = float(input(f\"Introduce la nota de {asignatura}: \"))\n",
        "                notas[asignatura] = nota\n",
        "                break\n",
        "            except ValueError:\n",
        "                print(\"Entrada inválida. Por favor, introduce un número.\")\n",
        "\n",
        "    df_notas = pd.DataFrame(list(notas.items()), columns=[\"Asignatura\", \"Nota\"])\n",
        "    asignaturas_a_repetir = df_notas[df_notas[\"Nota\"] < 5][\"Asignatura\"].tolist() # Assuming 5 is the passing grade\n",
        "    print(\"\\nAsignaturas a repetir:\")\n",
        "    if asignaturas_a_repetir:\n",
        "        for asignatura in asignaturas_a_repetir:\n",
        "            print(asignatura)\n",
        "    else:\n",
        "        print(\"¡Felicidades! Has aprobado todas las asignaturas.\")\n",
        "else:\n",
        "    print(\"Por favor, ejecuta el Ejercicio 1 primero para definir las asignaturas.\")"
      ],
      "execution_count": null,
      "outputs": []
    },
    {
      "cell_type": "code",
      "metadata": {
        "id": "9a31b272"
      },
      "source": [
        "import pandas as pd\n",
        "\n",
        "# Ejercicio 6\n",
        "print(\"\\n--- Ejercicio 6 ---\")\n",
        "# Assuming 'materias' variable from Ejercicio 1 is available\n",
        "if 'materias' in locals() and materias:\n",
        "    notas = {}\n",
        "    for asignatura in materias:\n",
        "        while True:\n",
        "            try:\n",
        "                nota = float(input(f\"Introduce la nota de {asignatura}: \"))\n",
        "                notas[asignatura] = nota\n",
        "                break\n",
        "            except ValueError:\n",
        "                print(\"Entrada inválida. Por favor, introduce un número.\")\n",
        "\n",
        "    df_notas = pd.DataFrame(list(notas.items()), columns=[\"Asignatura\", \"Nota\"])\n",
        "    asignaturas_a_repetir = df_notas[df_notas[\"Nota\"] < 5][\"Asignatura\"].tolist() # Assuming 5 is the passing grade\n",
        "    print(\"\\nAsignaturas a repetir:\")\n",
        "    if asignaturas_a_repetir:\n",
        "        for asignatura in asignaturas_a_repetir:\n",
        "            print(asignatura)\n",
        "    else:\n",
        "        print(\"¡Felicidades! Has aprobado todas las asignaturas.\")\n",
        "else:\n",
        "    print(\"Por favor, ejecuta el Ejercicio 1 primero para definir las asignaturas.\")"
      ],
      "execution_count": null,
      "outputs": []
    },
    {
      "cell_type": "code",
      "metadata": {
        "id": "5cce2b96"
      },
      "source": [
        "import pandas as pd\n",
        "import string\n",
        "\n",
        "# Ejercicio 7\n",
        "print(\"\\n--- Ejercicio 7 ---\")\n",
        "abecedario = list(string.ascii_lowercase)\n",
        "# Create a pandas Series for easier manipulation\n",
        "s_abecedario = pd.Series(abecedario)\n",
        "# Get indices that are multiples of 3 (remembering that indices are 0-based)\n",
        "indices_a_eliminar = [i for i in range(len(s_abecedario)) if (i + 1) % 3 == 0]\n",
        "# Drop the elements at these indices\n",
        "abecedario_filtrado = s_abecedario.drop(indices_a_eliminar).tolist()\n",
        "print(abecedario_filtrado)"
      ],
      "execution_count": null,
      "outputs": []
    },
    {
      "cell_type": "code",
      "metadata": {
        "id": "e27af739"
      },
      "source": [
        "import pandas as pd\n",
        "\n",
        "# Ejercicio 8\n",
        "print(\"\\n--- Ejercicio 8 ---\")\n",
        "palabra = input(\"Introduce una palabra: \")\n",
        "# Convert to lowercase and remove spaces for accurate palindrome check\n",
        "palabra_limpia = palabra.lower().replace(\" \", \"\")\n",
        "if palabra_limpia == palabra_limpia[::-1]:\n",
        "    print(f\"La palabra '{palabra}' es un palíndromo.\")\n",
        "else:\n",
        "    print(f\"La palabra '{palabra}' no es un palíndromo.\")"
      ],
      "execution_count": null,
      "outputs": []
    },
    {
      "cell_type": "code",
      "metadata": {
        "id": "dfd40acf"
      },
      "source": [
        "import pandas as pd\n",
        "\n",
        "# Ejercicio 9\n",
        "print(\"\\n--- Ejercicio 9 ---\")\n",
        "palabra = input(\"Introduce una palabra: \").lower()\n",
        "vocales = \"aeiou\"\n",
        "conteo_vocales = {}\n",
        "for vocal in vocales:\n",
        "    conteo_vocales[vocal] = palabra.count(vocal)\n",
        "\n",
        "df_conteo_vocales = pd.DataFrame(list(conteo_vocales.items()), columns=[\"Vocal\", \"Cantidad\"])\n",
        "print(\"Número de veces que aparece cada vocal:\")\n",
        "print(df_conteo_vocales)"
      ],
      "execution_count": null,
      "outputs": []
    },
    {
      "cell_type": "code",
      "metadata": {
        "id": "44fced09"
      },
      "source": [
        "import pandas as pd\n",
        "\n",
        "# Ejercicio 10\n",
        "print(\"\\n--- Ejercicio 10 ---\")\n",
        "precios = [50, 75, 46, 22, 80, 65, 8]\n",
        "df_precios = pd.DataFrame(precios, columns=[\"Precio\"])\n",
        "precio_menor = df_precios[\"Precio\"].min()\n",
        "precio_mayor = df_precios[\"Precio\"].max()\n",
        "print(f\"El menor precio es: {precio_menor}\")\n",
        "print(f\"El mayor precio es: {precio_mayor}\")"
      ],
      "execution_count": null,
      "outputs": []
    },
    {
      "cell_type": "code",
      "metadata": {
        "id": "78c094bf"
      },
      "source": [
        "import pandas as pd\n",
        "import numpy as np\n",
        "\n",
        "# Ejercicio 11\n",
        "print(\"\\n--- Ejercicio 11 ---\")\n",
        "vector1 = [1, 2, 3]\n",
        "vector2 = [-1, 0, 2]\n",
        "# Using numpy for dot product\n",
        "producto_escalar = np.dot(vector1, vector2)\n",
        "print(f\"El producto escalar de {vector1} y {vector2} es: {producto_escalar}\")"
      ],
      "execution_count": null,
      "outputs": []
    },
    {
      "cell_type": "code",
      "metadata": {
        "id": "32248ada"
      },
      "source": [
        "import pandas as pd\n",
        "import numpy as np\n",
        "\n",
        "# Ejercicio 12\n",
        "print(\"\\n--- Ejercicio 12 ---\")\n",
        "matriz1 = [[1, 2, 3], [4, 5, 6]]\n",
        "matriz2 = [[7, 8], [9, 10], [11, 12]]\n",
        "\n",
        "# Convert to numpy arrays for matrix multiplication\n",
        "np_matriz1 = np.array(matriz1)\n",
        "np_matriz2 = np.array(matriz2)\n",
        "\n",
        "# Perform matrix multiplication\n",
        "if np_matriz1.shape[1] == np_matriz2.shape[0]:\n",
        "    producto_matrices = np.dot(np_matriz1, np_matriz2)\n",
        "    print(\"El producto de las matrices es:\")\n",
        "    print(producto_matrices)\n",
        "else:\n",
        "    print(\"No se pueden multiplicar las matrices. El número de columnas de la primera matriz debe ser igual al número de filas de la segunda matriz.\")"
      ],
      "execution_count": null,
      "outputs": []
    },
    {
      "cell_type": "code",
      "metadata": {
        "id": "bd5728ae"
      },
      "source": [
        "import pandas as pd\n",
        "import numpy as np\n",
        "import statistics\n",
        "\n",
        "# Ejercicio 13\n",
        "print(\"\\n--- Ejercicio 13 ---\")\n",
        "numeros_input = input(\"Introduce una muestra de números separados por comas: \")\n",
        "try:\n",
        "    # Convert the input string to a list of floats\n",
        "    numeros = [float(numero.strip()) for numero in numeros_input.split(',')]\n",
        "    if numeros:\n",
        "        df_numeros = pd.DataFrame(numeros, columns=[\"Número\"])\n",
        "        media = df_numeros[\"Número\"].mean()\n",
        "        desviacion_tipica = df_numeros[\"Número\"].std() # Using pandas std which is by default population std / n-1\n",
        "\n",
        "        print(f\"La media de los números es: {media}\")\n",
        "        print(f\"La desviación típica de los números es: {desviacion_tipica}\")\n",
        "    else:\n",
        "        print(\"No se introdujeron números.\")\n",
        "except ValueError:\n",
        "    print(\"Entrada inválida. Asegúrate de introducir números separados por comas.\")"
      ],
      "execution_count": null,
      "outputs": []
    }
  ]
}